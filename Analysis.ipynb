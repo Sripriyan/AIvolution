{
 "cells": [
  {
   "cell_type": "markdown",
   "id": "571daafd-f75f-4431-bf96-0aa02fbf6e50",
   "metadata": {},
   "source": [
    "# Importing Required Libraries"
   ]
  },
  {
   "cell_type": "code",
   "execution_count": 1,
   "id": "fbb16ba1-1dbb-4b65-a70e-1068921790f2",
   "metadata": {},
   "outputs": [],
   "source": [
    "import pandas as pd\n",
    "import os\n",
    "import numpy as np\n",
    "import matplotlib.pyplot as plt\n",
    "import seaborn as sns\n",
    "import warnings\n",
    "warnings.filterwarnings('ignore')"
   ]
  },
  {
   "cell_type": "code",
   "execution_count": 2,
   "id": "e464eb23-922c-41a3-88fc-7fdf380cf771",
   "metadata": {},
   "outputs": [
    {
     "data": {
      "text/plain": [
       "['.git',\n",
       " '.ipynb_checkpoints',\n",
       " 'Analysis.ipynb',\n",
       " 'Dataset',\n",
       " 'LICENSE',\n",
       " 'README.md',\n",
       " 'Untitled.ipynb']"
      ]
     },
     "execution_count": 2,
     "metadata": {},
     "output_type": "execute_result"
    }
   ],
   "source": [
    "os.listdir()"
   ]
  },
  {
   "cell_type": "code",
   "execution_count": 3,
   "id": "c2ab873f-7a98-4d8f-881b-502f8a5fcb48",
   "metadata": {},
   "outputs": [],
   "source": [
    "curr_dir=os.getcwd()\n",
    "data_path=os.path.join(curr_dir,'Dataset/data.csv')"
   ]
  },
  {
   "cell_type": "code",
   "execution_count": 4,
   "id": "ab6c29f7-1587-4cfc-a638-66108b0b6c10",
   "metadata": {},
   "outputs": [
    {
     "data": {
      "text/plain": [
       "(4706, 7)"
      ]
     },
     "execution_count": 4,
     "metadata": {},
     "output_type": "execute_result"
    }
   ],
   "source": [
    "data=pd.read_csv(data_path)\n",
    "data.shape"
   ]
  },
  {
   "cell_type": "code",
   "execution_count": 5,
   "id": "be6119ba-a130-41ff-9a12-1e57ce50277e",
   "metadata": {},
   "outputs": [
    {
     "name": "stdout",
     "output_type": "stream",
     "text": [
      "<class 'pandas.core.frame.DataFrame'>\n",
      "RangeIndex: 4706 entries, 0 to 4705\n",
      "Data columns (total 7 columns):\n",
      " #   Column             Non-Null Count  Dtype  \n",
      "---  ------             --------------  -----  \n",
      " 0   Job titiles        4706 non-null   object \n",
      " 1   AI Impact          4706 non-null   object \n",
      " 2   Tasks              4706 non-null   int64  \n",
      " 3   AI models          4706 non-null   int64  \n",
      " 4   AI_Workload_Ratio  4706 non-null   float64\n",
      " 5   Domain             4706 non-null   object \n",
      " 6   domain_new         4706 non-null   object \n",
      "dtypes: float64(1), int64(2), object(4)\n",
      "memory usage: 257.5+ KB\n"
     ]
    }
   ],
   "source": [
    "data.info()"
   ]
  },
  {
   "cell_type": "code",
   "execution_count": 6,
   "id": "ece571dc-dda5-4330-9a3d-562943bad481",
   "metadata": {},
   "outputs": [],
   "source": [
    "data=data.rename(columns={'Job titiles':'Job title','domain_new':'domain'})"
   ]
  },
  {
   "cell_type": "code",
   "execution_count": 7,
   "id": "6cd60ac9-4e70-4cd8-859c-4f6bb48cb8f9",
   "metadata": {},
   "outputs": [
    {
     "data": {
      "text/html": [
       "<div>\n",
       "<style scoped>\n",
       "    .dataframe tbody tr th:only-of-type {\n",
       "        vertical-align: middle;\n",
       "    }\n",
       "\n",
       "    .dataframe tbody tr th {\n",
       "        vertical-align: top;\n",
       "    }\n",
       "\n",
       "    .dataframe thead th {\n",
       "        text-align: right;\n",
       "    }\n",
       "</style>\n",
       "<table border=\"1\" class=\"dataframe\">\n",
       "  <thead>\n",
       "    <tr style=\"text-align: right;\">\n",
       "      <th></th>\n",
       "      <th>Job title</th>\n",
       "      <th>AI Impact</th>\n",
       "      <th>Tasks</th>\n",
       "      <th>AI models</th>\n",
       "      <th>AI_Workload_Ratio</th>\n",
       "      <th>Domain</th>\n",
       "      <th>domain</th>\n",
       "    </tr>\n",
       "  </thead>\n",
       "  <tbody>\n",
       "    <tr>\n",
       "      <th>0</th>\n",
       "      <td>Communications Manager</td>\n",
       "      <td>98%</td>\n",
       "      <td>365</td>\n",
       "      <td>2546</td>\n",
       "      <td>0.143362</td>\n",
       "      <td>Communication &amp; PR</td>\n",
       "      <td>Communication &amp; PR</td>\n",
       "    </tr>\n",
       "    <tr>\n",
       "      <th>1</th>\n",
       "      <td>Data Collector</td>\n",
       "      <td>95%</td>\n",
       "      <td>299</td>\n",
       "      <td>2148</td>\n",
       "      <td>0.139199</td>\n",
       "      <td>Data &amp; IT</td>\n",
       "      <td>Data &amp; IT</td>\n",
       "    </tr>\n",
       "    <tr>\n",
       "      <th>2</th>\n",
       "      <td>Data Entry</td>\n",
       "      <td>95%</td>\n",
       "      <td>325</td>\n",
       "      <td>2278</td>\n",
       "      <td>0.142669</td>\n",
       "      <td>Administrative &amp; Clerical</td>\n",
       "      <td>Administrative &amp; Clerical</td>\n",
       "    </tr>\n",
       "    <tr>\n",
       "      <th>3</th>\n",
       "      <td>Mail Clerk</td>\n",
       "      <td>95%</td>\n",
       "      <td>193</td>\n",
       "      <td>1366</td>\n",
       "      <td>0.141288</td>\n",
       "      <td>Leadership &amp; Strategy</td>\n",
       "      <td>Administrative &amp; Clerical</td>\n",
       "    </tr>\n",
       "    <tr>\n",
       "      <th>4</th>\n",
       "      <td>Compliance Officer</td>\n",
       "      <td>92%</td>\n",
       "      <td>194</td>\n",
       "      <td>1369</td>\n",
       "      <td>0.141709</td>\n",
       "      <td>Medical &amp; Healthcare</td>\n",
       "      <td>Medical &amp; Healthcare</td>\n",
       "    </tr>\n",
       "  </tbody>\n",
       "</table>\n",
       "</div>"
      ],
      "text/plain": [
       "                Job title AI Impact  Tasks  AI models  AI_Workload_Ratio  \\\n",
       "0  Communications Manager       98%    365       2546           0.143362   \n",
       "1          Data Collector       95%    299       2148           0.139199   \n",
       "2              Data Entry       95%    325       2278           0.142669   \n",
       "3              Mail Clerk       95%    193       1366           0.141288   \n",
       "4      Compliance Officer       92%    194       1369           0.141709   \n",
       "\n",
       "                      Domain                     domain  \n",
       "0         Communication & PR         Communication & PR  \n",
       "1                  Data & IT                  Data & IT  \n",
       "2  Administrative & Clerical  Administrative & Clerical  \n",
       "3      Leadership & Strategy  Administrative & Clerical  \n",
       "4       Medical & Healthcare       Medical & Healthcare  "
      ]
     },
     "execution_count": 7,
     "metadata": {},
     "output_type": "execute_result"
    }
   ],
   "source": [
    "data.head()"
   ]
  },
  {
   "cell_type": "code",
   "execution_count": 8,
   "id": "591c1e26-cc85-49f6-99ca-19333eb08e68",
   "metadata": {},
   "outputs": [
    {
     "data": {
      "text/html": [
       "<div>\n",
       "<style scoped>\n",
       "    .dataframe tbody tr th:only-of-type {\n",
       "        vertical-align: middle;\n",
       "    }\n",
       "\n",
       "    .dataframe tbody tr th {\n",
       "        vertical-align: top;\n",
       "    }\n",
       "\n",
       "    .dataframe thead th {\n",
       "        text-align: right;\n",
       "    }\n",
       "</style>\n",
       "<table border=\"1\" class=\"dataframe\">\n",
       "  <thead>\n",
       "    <tr style=\"text-align: right;\">\n",
       "      <th></th>\n",
       "      <th>Tasks</th>\n",
       "      <th>AI models</th>\n",
       "      <th>AI_Workload_Ratio</th>\n",
       "    </tr>\n",
       "  </thead>\n",
       "  <tbody>\n",
       "    <tr>\n",
       "      <th>count</th>\n",
       "      <td>4706.000000</td>\n",
       "      <td>4706.000000</td>\n",
       "      <td>4706.000000</td>\n",
       "    </tr>\n",
       "    <tr>\n",
       "      <th>mean</th>\n",
       "      <td>400.708032</td>\n",
       "      <td>1817.678071</td>\n",
       "      <td>inf</td>\n",
       "    </tr>\n",
       "    <tr>\n",
       "      <th>std</th>\n",
       "      <td>311.564781</td>\n",
       "      <td>1086.853037</td>\n",
       "      <td>NaN</td>\n",
       "    </tr>\n",
       "    <tr>\n",
       "      <th>min</th>\n",
       "      <td>1.000000</td>\n",
       "      <td>0.000000</td>\n",
       "      <td>0.036585</td>\n",
       "    </tr>\n",
       "    <tr>\n",
       "      <th>25%</th>\n",
       "      <td>161.000000</td>\n",
       "      <td>1085.250000</td>\n",
       "      <td>0.137271</td>\n",
       "    </tr>\n",
       "    <tr>\n",
       "      <th>50%</th>\n",
       "      <td>270.000000</td>\n",
       "      <td>1577.500000</td>\n",
       "      <td>0.199281</td>\n",
       "    </tr>\n",
       "    <tr>\n",
       "      <th>75%</th>\n",
       "      <td>608.750000</td>\n",
       "      <td>2273.000000</td>\n",
       "      <td>0.260572</td>\n",
       "    </tr>\n",
       "    <tr>\n",
       "      <th>max</th>\n",
       "      <td>1387.000000</td>\n",
       "      <td>5666.000000</td>\n",
       "      <td>inf</td>\n",
       "    </tr>\n",
       "  </tbody>\n",
       "</table>\n",
       "</div>"
      ],
      "text/plain": [
       "             Tasks    AI models  AI_Workload_Ratio\n",
       "count  4706.000000  4706.000000        4706.000000\n",
       "mean    400.708032  1817.678071                inf\n",
       "std     311.564781  1086.853037                NaN\n",
       "min       1.000000     0.000000           0.036585\n",
       "25%     161.000000  1085.250000           0.137271\n",
       "50%     270.000000  1577.500000           0.199281\n",
       "75%     608.750000  2273.000000           0.260572\n",
       "max    1387.000000  5666.000000                inf"
      ]
     },
     "execution_count": 8,
     "metadata": {},
     "output_type": "execute_result"
    }
   ],
   "source": [
    "data.describe()"
   ]
  },
  {
   "cell_type": "code",
   "execution_count": 9,
   "id": "ca0d1d67-95d4-4736-9de0-a38729c05989",
   "metadata": {},
   "outputs": [],
   "source": [
    "data['AI_Workload_Ratio'].replace([np.inf,-np.inf],np.nan,inplace=True)"
   ]
  },
  {
   "cell_type": "code",
   "execution_count": 10,
   "id": "fdc776a4-070a-47e9-a433-de043edc7e45",
   "metadata": {},
   "outputs": [
    {
     "data": {
      "text/html": [
       "<div>\n",
       "<style scoped>\n",
       "    .dataframe tbody tr th:only-of-type {\n",
       "        vertical-align: middle;\n",
       "    }\n",
       "\n",
       "    .dataframe tbody tr th {\n",
       "        vertical-align: top;\n",
       "    }\n",
       "\n",
       "    .dataframe thead th {\n",
       "        text-align: right;\n",
       "    }\n",
       "</style>\n",
       "<table border=\"1\" class=\"dataframe\">\n",
       "  <thead>\n",
       "    <tr style=\"text-align: right;\">\n",
       "      <th></th>\n",
       "      <th>Tasks</th>\n",
       "      <th>AI models</th>\n",
       "      <th>AI_Workload_Ratio</th>\n",
       "    </tr>\n",
       "  </thead>\n",
       "  <tbody>\n",
       "    <tr>\n",
       "      <th>count</th>\n",
       "      <td>4706.000000</td>\n",
       "      <td>4706.000000</td>\n",
       "      <td>4699.000000</td>\n",
       "    </tr>\n",
       "    <tr>\n",
       "      <th>mean</th>\n",
       "      <td>400.708032</td>\n",
       "      <td>1817.678071</td>\n",
       "      <td>0.204619</td>\n",
       "    </tr>\n",
       "    <tr>\n",
       "      <th>std</th>\n",
       "      <td>311.564781</td>\n",
       "      <td>1086.853037</td>\n",
       "      <td>0.076547</td>\n",
       "    </tr>\n",
       "    <tr>\n",
       "      <th>min</th>\n",
       "      <td>1.000000</td>\n",
       "      <td>0.000000</td>\n",
       "      <td>0.036585</td>\n",
       "    </tr>\n",
       "    <tr>\n",
       "      <th>25%</th>\n",
       "      <td>161.000000</td>\n",
       "      <td>1085.250000</td>\n",
       "      <td>0.137262</td>\n",
       "    </tr>\n",
       "    <tr>\n",
       "      <th>50%</th>\n",
       "      <td>270.000000</td>\n",
       "      <td>1577.500000</td>\n",
       "      <td>0.198885</td>\n",
       "    </tr>\n",
       "    <tr>\n",
       "      <th>75%</th>\n",
       "      <td>608.750000</td>\n",
       "      <td>2273.000000</td>\n",
       "      <td>0.260450</td>\n",
       "    </tr>\n",
       "    <tr>\n",
       "      <th>max</th>\n",
       "      <td>1387.000000</td>\n",
       "      <td>5666.000000</td>\n",
       "      <td>1.000000</td>\n",
       "    </tr>\n",
       "  </tbody>\n",
       "</table>\n",
       "</div>"
      ],
      "text/plain": [
       "             Tasks    AI models  AI_Workload_Ratio\n",
       "count  4706.000000  4706.000000        4699.000000\n",
       "mean    400.708032  1817.678071           0.204619\n",
       "std     311.564781  1086.853037           0.076547\n",
       "min       1.000000     0.000000           0.036585\n",
       "25%     161.000000  1085.250000           0.137262\n",
       "50%     270.000000  1577.500000           0.198885\n",
       "75%     608.750000  2273.000000           0.260450\n",
       "max    1387.000000  5666.000000           1.000000"
      ]
     },
     "execution_count": 10,
     "metadata": {},
     "output_type": "execute_result"
    }
   ],
   "source": [
    "data.describe()"
   ]
  },
  {
   "cell_type": "code",
   "execution_count": 11,
   "id": "68f8d5b0-c560-4654-8336-310e0ca0890d",
   "metadata": {},
   "outputs": [
    {
     "data": {
      "text/plain": [
       "array(['Communication & PR', 'Data & IT', 'Administrative & Clerical',\n",
       "       'Medical & Healthcare', 'Leadership & Strategy', 'Law Enforcement',\n",
       "       'Construction', 'Sales & Marketing', 'Hospitality',\n",
       "       'Supply Chain & Logistics'], dtype=object)"
      ]
     },
     "execution_count": 11,
     "metadata": {},
     "output_type": "execute_result"
    }
   ],
   "source": [
    "data['domain'].unique()"
   ]
  },
  {
   "cell_type": "code",
   "execution_count": 12,
   "id": "c65ec824-0f61-4d4e-a637-8de145384787",
   "metadata": {},
   "outputs": [],
   "source": [
    "data['AI Impact']=data['AI Impact'].str.strip('%').astype(float)/100"
   ]
  },
  {
   "cell_type": "code",
   "execution_count": 13,
   "id": "734781ee-be95-4821-8c90-207d7ddf4c4a",
   "metadata": {},
   "outputs": [
    {
     "data": {
      "text/html": [
       "<div>\n",
       "<style scoped>\n",
       "    .dataframe tbody tr th:only-of-type {\n",
       "        vertical-align: middle;\n",
       "    }\n",
       "\n",
       "    .dataframe tbody tr th {\n",
       "        vertical-align: top;\n",
       "    }\n",
       "\n",
       "    .dataframe thead th {\n",
       "        text-align: right;\n",
       "    }\n",
       "</style>\n",
       "<table border=\"1\" class=\"dataframe\">\n",
       "  <thead>\n",
       "    <tr style=\"text-align: right;\">\n",
       "      <th></th>\n",
       "      <th>Job title</th>\n",
       "      <th>AI Impact</th>\n",
       "      <th>Tasks</th>\n",
       "      <th>AI models</th>\n",
       "      <th>AI_Workload_Ratio</th>\n",
       "      <th>Domain</th>\n",
       "      <th>domain</th>\n",
       "    </tr>\n",
       "  </thead>\n",
       "  <tbody>\n",
       "    <tr>\n",
       "      <th>0</th>\n",
       "      <td>Communications Manager</td>\n",
       "      <td>0.98</td>\n",
       "      <td>365</td>\n",
       "      <td>2546</td>\n",
       "      <td>0.143362</td>\n",
       "      <td>Communication &amp; PR</td>\n",
       "      <td>Communication &amp; PR</td>\n",
       "    </tr>\n",
       "    <tr>\n",
       "      <th>1</th>\n",
       "      <td>Data Collector</td>\n",
       "      <td>0.95</td>\n",
       "      <td>299</td>\n",
       "      <td>2148</td>\n",
       "      <td>0.139199</td>\n",
       "      <td>Data &amp; IT</td>\n",
       "      <td>Data &amp; IT</td>\n",
       "    </tr>\n",
       "    <tr>\n",
       "      <th>2</th>\n",
       "      <td>Data Entry</td>\n",
       "      <td>0.95</td>\n",
       "      <td>325</td>\n",
       "      <td>2278</td>\n",
       "      <td>0.142669</td>\n",
       "      <td>Administrative &amp; Clerical</td>\n",
       "      <td>Administrative &amp; Clerical</td>\n",
       "    </tr>\n",
       "    <tr>\n",
       "      <th>3</th>\n",
       "      <td>Mail Clerk</td>\n",
       "      <td>0.95</td>\n",
       "      <td>193</td>\n",
       "      <td>1366</td>\n",
       "      <td>0.141288</td>\n",
       "      <td>Leadership &amp; Strategy</td>\n",
       "      <td>Administrative &amp; Clerical</td>\n",
       "    </tr>\n",
       "    <tr>\n",
       "      <th>4</th>\n",
       "      <td>Compliance Officer</td>\n",
       "      <td>0.92</td>\n",
       "      <td>194</td>\n",
       "      <td>1369</td>\n",
       "      <td>0.141709</td>\n",
       "      <td>Medical &amp; Healthcare</td>\n",
       "      <td>Medical &amp; Healthcare</td>\n",
       "    </tr>\n",
       "    <tr>\n",
       "      <th>...</th>\n",
       "      <td>...</td>\n",
       "      <td>...</td>\n",
       "      <td>...</td>\n",
       "      <td>...</td>\n",
       "      <td>...</td>\n",
       "      <td>...</td>\n",
       "      <td>...</td>\n",
       "    </tr>\n",
       "    <tr>\n",
       "      <th>4701</th>\n",
       "      <td>Singer</td>\n",
       "      <td>0.05</td>\n",
       "      <td>686</td>\n",
       "      <td>2798</td>\n",
       "      <td>0.245175</td>\n",
       "      <td>Data &amp; IT</td>\n",
       "      <td>Communication &amp; PR</td>\n",
       "    </tr>\n",
       "    <tr>\n",
       "      <th>4702</th>\n",
       "      <td>Airport</td>\n",
       "      <td>0.05</td>\n",
       "      <td>556</td>\n",
       "      <td>2206</td>\n",
       "      <td>0.252040</td>\n",
       "      <td>Administrative &amp; Clerical</td>\n",
       "      <td>Supply Chain &amp; Logistics</td>\n",
       "    </tr>\n",
       "    <tr>\n",
       "      <th>4703</th>\n",
       "      <td>Director</td>\n",
       "      <td>0.05</td>\n",
       "      <td>1316</td>\n",
       "      <td>4695</td>\n",
       "      <td>0.280298</td>\n",
       "      <td>Leadership &amp; Strategy</td>\n",
       "      <td>Leadership &amp; Strategy</td>\n",
       "    </tr>\n",
       "    <tr>\n",
       "      <th>4704</th>\n",
       "      <td>Nurse</td>\n",
       "      <td>0.05</td>\n",
       "      <td>710</td>\n",
       "      <td>2594</td>\n",
       "      <td>0.273709</td>\n",
       "      <td>Medical &amp; Healthcare</td>\n",
       "      <td>Medical &amp; Healthcare</td>\n",
       "    </tr>\n",
       "    <tr>\n",
       "      <th>4705</th>\n",
       "      <td>Technician</td>\n",
       "      <td>0.05</td>\n",
       "      <td>825</td>\n",
       "      <td>3256</td>\n",
       "      <td>0.253378</td>\n",
       "      <td>Supply Chain &amp; Logistics</td>\n",
       "      <td>Medical &amp; Healthcare</td>\n",
       "    </tr>\n",
       "  </tbody>\n",
       "</table>\n",
       "<p>4706 rows × 7 columns</p>\n",
       "</div>"
      ],
      "text/plain": [
       "                   Job title  AI Impact  Tasks  AI models  AI_Workload_Ratio  \\\n",
       "0     Communications Manager       0.98    365       2546           0.143362   \n",
       "1             Data Collector       0.95    299       2148           0.139199   \n",
       "2                 Data Entry       0.95    325       2278           0.142669   \n",
       "3                 Mail Clerk       0.95    193       1366           0.141288   \n",
       "4         Compliance Officer       0.92    194       1369           0.141709   \n",
       "...                      ...        ...    ...        ...                ...   \n",
       "4701                  Singer       0.05    686       2798           0.245175   \n",
       "4702                 Airport       0.05    556       2206           0.252040   \n",
       "4703                Director       0.05   1316       4695           0.280298   \n",
       "4704                   Nurse       0.05    710       2594           0.273709   \n",
       "4705              Technician       0.05    825       3256           0.253378   \n",
       "\n",
       "                         Domain                     domain  \n",
       "0            Communication & PR         Communication & PR  \n",
       "1                     Data & IT                  Data & IT  \n",
       "2     Administrative & Clerical  Administrative & Clerical  \n",
       "3         Leadership & Strategy  Administrative & Clerical  \n",
       "4          Medical & Healthcare       Medical & Healthcare  \n",
       "...                         ...                        ...  \n",
       "4701                  Data & IT         Communication & PR  \n",
       "4702  Administrative & Clerical   Supply Chain & Logistics  \n",
       "4703      Leadership & Strategy      Leadership & Strategy  \n",
       "4704       Medical & Healthcare       Medical & Healthcare  \n",
       "4705   Supply Chain & Logistics       Medical & Healthcare  \n",
       "\n",
       "[4706 rows x 7 columns]"
      ]
     },
     "execution_count": 13,
     "metadata": {},
     "output_type": "execute_result"
    }
   ],
   "source": [
    "data.drop_duplicates()"
   ]
  },
  {
   "cell_type": "code",
   "execution_count": 14,
   "id": "2c08025e-21c7-4185-b221-3e08cf0e4829",
   "metadata": {},
   "outputs": [
    {
     "data": {
      "text/plain": [
       "domain\n",
       "Data & IT                    0.421101\n",
       "Law Enforcement              0.343919\n",
       "Sales & Marketing            0.332720\n",
       "Supply Chain & Logistics     0.323419\n",
       "Administrative & Clerical    0.312176\n",
       "Construction                 0.279802\n",
       "Medical & Healthcare         0.266571\n",
       "Leadership & Strategy        0.254494\n",
       "Hospitality                  0.246232\n",
       "Communication & PR           0.224908\n",
       "Name: AI Impact, dtype: float64"
      ]
     },
     "execution_count": 14,
     "metadata": {},
     "output_type": "execute_result"
    }
   ],
   "source": [
    "domain_impact=data.groupby('domain')['AI Impact'].mean().sort_values(ascending=False)\n",
    "domain_impact"
   ]
  },
  {
   "cell_type": "code",
   "execution_count": 15,
   "id": "765fee28-4043-462b-9388-e57a2b3060e0",
   "metadata": {},
   "outputs": [
    {
     "data": {
      "image/png": "[encoded data removed]",
      "text/plain": [
       "<Figure size 640x480 with 1 Axes>"
      ]
     },
     "metadata": {},
     "output_type": "display_data"
    }
   ],
   "source": [
    "sns.histplot(data['AI Impact'], kde=True)\n",
    "plt.title('Distribution of AI Impact')\n",
    "plt.xlabel('AI Impact')\n",
    "plt.ylabel('Frequency')\n",
    "plt.show()"
   ]
  },
  {
   "cell_type": "code",
   "execution_count": 16,
   "id": "73dd6c2a-1ce3-45cb-8d0b-692f1bbedca9",
   "metadata": {},
   "outputs": [
    {
     "data": {
      "image/png": "[encoded data removed]",
      "text/plain": [
       "<Figure size 1200x800 with 1 Axes>"
      ]
     },
     "metadata": {},
     "output_type": "display_data"
    }
   ],
   "source": [
    "plt.figure(figsize=(12, 8))\n",
    "sns.boxplot(x='domain', y='AI Impact', data=data)\n",
    "plt.xticks(rotation=90)\n",
    "plt.title('AI Impact by Domain')\n",
    "plt.show()"
   ]
  },
  {
   "cell_type": "code",
   "execution_count": 17,
   "id": "bf5b5d61-3900-400e-b82a-499e33f95143",
   "metadata": {},
   "outputs": [
    {
     "data": {
      "text/html": [
       "<div>\n",
       "<style scoped>\n",
       "    .dataframe tbody tr th:only-of-type {\n",
       "        vertical-align: middle;\n",
       "    }\n",
       "\n",
       "    .dataframe tbody tr th {\n",
       "        vertical-align: top;\n",
       "    }\n",
       "\n",
       "    .dataframe thead th {\n",
       "        text-align: right;\n",
       "    }\n",
       "</style>\n",
       "<table border=\"1\" class=\"dataframe\">\n",
       "  <thead>\n",
       "    <tr style=\"text-align: right;\">\n",
       "      <th></th>\n",
       "      <th>Job title</th>\n",
       "      <th>AI Impact</th>\n",
       "      <th>Tasks</th>\n",
       "      <th>AI models</th>\n",
       "      <th>AI_Workload_Ratio</th>\n",
       "      <th>domain</th>\n",
       "    </tr>\n",
       "  </thead>\n",
       "  <tbody>\n",
       "    <tr>\n",
       "      <th>0</th>\n",
       "      <td>Communications Manager</td>\n",
       "      <td>0.98</td>\n",
       "      <td>365</td>\n",
       "      <td>2546</td>\n",
       "      <td>0.143362</td>\n",
       "      <td>Communication &amp; PR</td>\n",
       "    </tr>\n",
       "    <tr>\n",
       "      <th>1</th>\n",
       "      <td>Data Collector</td>\n",
       "      <td>0.95</td>\n",
       "      <td>299</td>\n",
       "      <td>2148</td>\n",
       "      <td>0.139199</td>\n",
       "      <td>Data &amp; IT</td>\n",
       "    </tr>\n",
       "    <tr>\n",
       "      <th>2</th>\n",
       "      <td>Data Entry</td>\n",
       "      <td>0.95</td>\n",
       "      <td>325</td>\n",
       "      <td>2278</td>\n",
       "      <td>0.142669</td>\n",
       "      <td>Administrative &amp; Clerical</td>\n",
       "    </tr>\n",
       "    <tr>\n",
       "      <th>3</th>\n",
       "      <td>Mail Clerk</td>\n",
       "      <td>0.95</td>\n",
       "      <td>193</td>\n",
       "      <td>1366</td>\n",
       "      <td>0.141288</td>\n",
       "      <td>Administrative &amp; Clerical</td>\n",
       "    </tr>\n",
       "    <tr>\n",
       "      <th>4</th>\n",
       "      <td>Compliance Officer</td>\n",
       "      <td>0.92</td>\n",
       "      <td>194</td>\n",
       "      <td>1369</td>\n",
       "      <td>0.141709</td>\n",
       "      <td>Medical &amp; Healthcare</td>\n",
       "    </tr>\n",
       "    <tr>\n",
       "      <th>...</th>\n",
       "      <td>...</td>\n",
       "      <td>...</td>\n",
       "      <td>...</td>\n",
       "      <td>...</td>\n",
       "      <td>...</td>\n",
       "      <td>...</td>\n",
       "    </tr>\n",
       "    <tr>\n",
       "      <th>4701</th>\n",
       "      <td>Singer</td>\n",
       "      <td>0.05</td>\n",
       "      <td>686</td>\n",
       "      <td>2798</td>\n",
       "      <td>0.245175</td>\n",
       "      <td>Communication &amp; PR</td>\n",
       "    </tr>\n",
       "    <tr>\n",
       "      <th>4702</th>\n",
       "      <td>Airport</td>\n",
       "      <td>0.05</td>\n",
       "      <td>556</td>\n",
       "      <td>2206</td>\n",
       "      <td>0.252040</td>\n",
       "      <td>Supply Chain &amp; Logistics</td>\n",
       "    </tr>\n",
       "    <tr>\n",
       "      <th>4703</th>\n",
       "      <td>Director</td>\n",
       "      <td>0.05</td>\n",
       "      <td>1316</td>\n",
       "      <td>4695</td>\n",
       "      <td>0.280298</td>\n",
       "      <td>Leadership &amp; Strategy</td>\n",
       "    </tr>\n",
       "    <tr>\n",
       "      <th>4704</th>\n",
       "      <td>Nurse</td>\n",
       "      <td>0.05</td>\n",
       "      <td>710</td>\n",
       "      <td>2594</td>\n",
       "      <td>0.273709</td>\n",
       "      <td>Medical &amp; Healthcare</td>\n",
       "    </tr>\n",
       "    <tr>\n",
       "      <th>4705</th>\n",
       "      <td>Technician</td>\n",
       "      <td>0.05</td>\n",
       "      <td>825</td>\n",
       "      <td>3256</td>\n",
       "      <td>0.253378</td>\n",
       "      <td>Medical &amp; Healthcare</td>\n",
       "    </tr>\n",
       "  </tbody>\n",
       "</table>\n",
       "<p>4706 rows × 6 columns</p>\n",
       "</div>"
      ],
      "text/plain": [
       "                   Job title  AI Impact  Tasks  AI models  AI_Workload_Ratio  \\\n",
       "0     Communications Manager       0.98    365       2546           0.143362   \n",
       "1             Data Collector       0.95    299       2148           0.139199   \n",
       "2                 Data Entry       0.95    325       2278           0.142669   \n",
       "3                 Mail Clerk       0.95    193       1366           0.141288   \n",
       "4         Compliance Officer       0.92    194       1369           0.141709   \n",
       "...                      ...        ...    ...        ...                ...   \n",
       "4701                  Singer       0.05    686       2798           0.245175   \n",
       "4702                 Airport       0.05    556       2206           0.252040   \n",
       "4703                Director       0.05   1316       4695           0.280298   \n",
       "4704                   Nurse       0.05    710       2594           0.273709   \n",
       "4705              Technician       0.05    825       3256           0.253378   \n",
       "\n",
       "                         domain  \n",
       "0            Communication & PR  \n",
       "1                     Data & IT  \n",
       "2     Administrative & Clerical  \n",
       "3     Administrative & Clerical  \n",
       "4          Medical & Healthcare  \n",
       "...                         ...  \n",
       "4701         Communication & PR  \n",
       "4702   Supply Chain & Logistics  \n",
       "4703      Leadership & Strategy  \n",
       "4704       Medical & Healthcare  \n",
       "4705       Medical & Healthcare  \n",
       "\n",
       "[4706 rows x 6 columns]"
      ]
     },
     "execution_count": 17,
     "metadata": {},
     "output_type": "execute_result"
    }
   ],
   "source": [
    "data.drop(columns='Domain')"
   ]
  },
  {
   "cell_type": "code",
   "execution_count": 18,
   "id": "08df8952-303f-40ff-b72d-c073540df9dc",
   "metadata": {},
   "outputs": [
    {
     "data": {
      "text/html": [
       "<div>\n",
       "<style scoped>\n",
       "    .dataframe tbody tr th:only-of-type {\n",
       "        vertical-align: middle;\n",
       "    }\n",
       "\n",
       "    .dataframe tbody tr th {\n",
       "        vertical-align: top;\n",
       "    }\n",
       "\n",
       "    .dataframe thead th {\n",
       "        text-align: right;\n",
       "    }\n",
       "</style>\n",
       "<table border=\"1\" class=\"dataframe\">\n",
       "  <thead>\n",
       "    <tr style=\"text-align: right;\">\n",
       "      <th></th>\n",
       "      <th>AI Impact</th>\n",
       "      <th>Tasks</th>\n",
       "      <th>AI models</th>\n",
       "      <th>AI_Workload_Ratio</th>\n",
       "    </tr>\n",
       "  </thead>\n",
       "  <tbody>\n",
       "    <tr>\n",
       "      <th>AI Impact</th>\n",
       "      <td>1.000000</td>\n",
       "      <td>-0.419760</td>\n",
       "      <td>-0.413176</td>\n",
       "      <td>-0.287871</td>\n",
       "    </tr>\n",
       "    <tr>\n",
       "      <th>Tasks</th>\n",
       "      <td>-0.419760</td>\n",
       "      <td>1.000000</td>\n",
       "      <td>0.928350</td>\n",
       "      <td>0.631305</td>\n",
       "    </tr>\n",
       "    <tr>\n",
       "      <th>AI models</th>\n",
       "      <td>-0.413176</td>\n",
       "      <td>0.928350</td>\n",
       "      <td>1.000000</td>\n",
       "      <td>0.346893</td>\n",
       "    </tr>\n",
       "    <tr>\n",
       "      <th>AI_Workload_Ratio</th>\n",
       "      <td>-0.287871</td>\n",
       "      <td>0.631305</td>\n",
       "      <td>0.346893</td>\n",
       "      <td>1.000000</td>\n",
       "    </tr>\n",
       "  </tbody>\n",
       "</table>\n",
       "</div>"
      ],
      "text/plain": [
       "                   AI Impact     Tasks  AI models  AI_Workload_Ratio\n",
       "AI Impact           1.000000 -0.419760  -0.413176          -0.287871\n",
       "Tasks              -0.419760  1.000000   0.928350           0.631305\n",
       "AI models          -0.413176  0.928350   1.000000           0.346893\n",
       "AI_Workload_Ratio  -0.287871  0.631305   0.346893           1.000000"
      ]
     },
     "execution_count": 18,
     "metadata": {},
     "output_type": "execute_result"
    }
   ],
   "source": [
    "numeric_df = data.select_dtypes(include=[np.number])\n",
    "corr=numeric_df.corr(method='pearson')\n",
    "corr"
   ]
  },
  {
   "cell_type": "code",
   "execution_count": 19,
   "id": "2a8e9df4-c2be-4f9c-9c51-7eedf8087a94",
   "metadata": {},
   "outputs": [],
   "source": [
    "def impact_level(impact):\n",
    "    if impact >= 0.9:\n",
    "        return 'Extreme'\n",
    "    elif 0.7 <= impact < 0.9:\n",
    "        return 'High'\n",
    "    elif 0.45 <= impact < 0.7:\n",
    "        return 'Medium'\n",
    "    else:\n",
    "        return 'Low'\n",
    "\n",
    "data['Impact_Level'] = data['AI Impact'].apply(impact_level)\n"
   ]
  },
  {
   "cell_type": "code",
   "execution_count": 20,
   "id": "ab1d074c-1170-4011-a651-b12ec1e739c5",
   "metadata": {},
   "outputs": [
    {
     "data": {
      "text/plain": [
       "Impact_Level\n",
       "Low        3668\n",
       "Medium      824\n",
       "High        194\n",
       "Extreme      20\n",
       "Name: count, dtype: int64"
      ]
     },
     "execution_count": 20,
     "metadata": {},
     "output_type": "execute_result"
    }
   ],
   "source": [
    "data['Impact_Level'].value_counts()"
   ]
  },
  {
   "cell_type": "code",
   "execution_count": 21,
   "id": "32bdfc97-b679-412f-9969-a2bccdcecf36",
   "metadata": {},
   "outputs": [],
   "source": [
    "data['Log_Tasks'] = np.log1p(data['Tasks'])\n",
    "data['Log_Models'] = np.log1p(data['AI models'])"
   ]
  },
  {
   "cell_type": "code",
   "execution_count": 22,
   "id": "7dcbe81f-286f-46cb-8e42-0781c67d7160",
   "metadata": {},
   "outputs": [],
   "source": [
    "from sklearn.preprocessing import PolynomialFeatures\n",
    "poly = PolynomialFeatures(degree=2, interaction_only=True)\n",
    "poly_features = poly.fit_transform(data[['Tasks', 'AI models']])\n",
    "poly_df = pd.DataFrame(poly_features, columns=['1', 'Tasks', 'AI models', 'Tasks_AI models'])\n",
    "data = pd.concat([data, poly_df], axis=1)"
   ]
  },
  {
   "cell_type": "code",
   "execution_count": null,
   "id": "53c8b147-df98-4438-8894-722d63d08eaf",
   "metadata": {},
   "outputs": [],
   "source": []
  },
  {
   "cell_type": "code",
   "execution_count": 23,
   "id": "8a2ed4d7-167b-4f4d-841d-ca33bac1e824",
   "metadata": {},
   "outputs": [
    {
     "name": "stdout",
     "output_type": "stream",
     "text": [
      "              precision    recall  f1-score   support\n",
      "\n",
      "     Extreme       0.50      0.20      0.29         5\n",
      "        High       0.45      0.25      0.32        68\n",
      "         Low       0.87      0.92      0.90      1093\n",
      "      Medium       0.58      0.50      0.54       246\n",
      "\n",
      "    accuracy                           0.82      1412\n",
      "   macro avg       0.60      0.47      0.51      1412\n",
      "weighted avg       0.80      0.82      0.80      1412\n",
      "\n",
      "Confusion Matrix:\n",
      " [[   1    0    3    1]\n",
      " [   0   17   36   15]\n",
      " [   1   10 1010   72]\n",
      " [   0   11  112  123]]\n",
      "Accuracy Score: 0.8151558073654391\n"
     ]
    }
   ],
   "source": [
    "from sklearn.model_selection import train_test_split\n",
    "from sklearn.ensemble import RandomForestClassifier\n",
    "from sklearn.impute import SimpleImputer\n",
    "from sklearn.metrics import classification_report, confusion_matrix, accuracy_score\n",
    "X = data[['Tasks', 'AI models', 'AI_Workload_Ratio', 'Log_Tasks', 'Log_Models', 'Tasks_AI models']]\n",
    "y = data['Impact_Level']\n",
    "imputer = SimpleImputer(strategy='mean')\n",
    "X_imputed = imputer.fit_transform(X)\n",
    "X_train, X_test, y_train, y_test = train_test_split(X_imputed, y, test_size=0.3, random_state=42)\n",
    "model = RandomForestClassifier(n_estimators=100, random_state=42)\n",
    "model.fit(X_train, y_train)\n",
    "predictions = model.predict(X_test)\n",
    "print(classification_report(y_test, predictions))\n",
    "print(\"Confusion Matrix:\\n\", confusion_matrix(y_test, predictions))\n",
    "print(\"Accuracy Score:\", accuracy_score(y_test, predictions))"
   ]
  },
  {
   "cell_type": "code",
   "execution_count": 24,
   "id": "e1d25f52-a68b-4989-8d76-10ede5cb15c4",
   "metadata": {},
   "outputs": [
    {
     "data": {
      "image/png": "[encoded data removed]",
      "text/plain": [
       "<Figure size 640x480 with 1 Axes>"
      ]
     },
     "metadata": {},
     "output_type": "display_data"
    }
   ],
   "source": [
    "feature_importances = pd.Series(model.feature_importances_, index=X.columns)\n",
    "feature_importances.nlargest(10).plot(kind='barh')\n",
    "plt.title('Feature Importances')\n",
    "plt.show()"
   ]
  },
  {
   "cell_type": "code",
   "execution_count": null,
   "id": "ab0bad52-97bb-476b-b94f-0a57679ceec4",
   "metadata": {},
   "outputs": [],
   "source": [
    "# !pip install mplcursors"
   ]
  },
  {
   "cell_type": "code",
   "execution_count": null,
   "id": "ef0f070d-21f4-4787-9309-fd9557f8a71b",
   "metadata": {},
   "outputs": [],
   "source": []
  },
  {
   "cell_type": "code",
   "execution_count": null,
   "id": "3790e693-101d-47df-a6f8-65f5eea82b44",
   "metadata": {},
   "outputs": [],
   "source": []
  },
  {
   "cell_type": "code",
   "execution_count": null,
   "id": "3c249601-11a5-47fc-be6c-a3cd52b1b2c3",
   "metadata": {},
   "outputs": [],
   "source": []
  },
  {
   "cell_type": "code",
   "execution_count": null,
   "id": "c78fefd0-05dc-4479-bf43-120a30f7704d",
   "metadata": {},
   "outputs": [],
   "source": []
  }
 ],
 "metadata": {
  "kernelspec": {
   "display_name": "Python 3 (ipykernel)",
   "language": "python",
   "name": "python3"
  },
  "language_info": {
   "codemirror_mode": {
    "name": "ipython",
    "version": 3
   },
   "file_extension": ".py",
   "mimetype": "text/x-python",
   "name": "python",
   "nbconvert_exporter": "python",
   "pygments_lexer": "ipython3",
   "version": "3.11.3"
  }
 },
 "nbformat": 4,
 "nbformat_minor": 5
}
